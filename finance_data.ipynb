{
 "cells": [
  {
   "cell_type": "markdown",
   "id": "d49e0fda-ccac-447a-8795-18b74cb1c1fd",
   "metadata": {},
   "source": [
    "1. Load the CSV Data"
   ]
  },
  {
   "cell_type": "code",
   "execution_count": 1,
   "id": "050965fc-40ad-47e7-87a4-6f2badf924cc",
   "metadata": {},
   "outputs": [
    {
     "name": "stdout",
     "output_type": "stream",
     "text": [
      "+--------------+----------+-------------------+----------------+------+--------+--------------+-------------+\n",
      "|transaction_id|account_id|   transaction_date|transaction_type|amount|currency|      category|     location|\n",
      "+--------------+----------+-------------------+----------------+------+--------+--------------+-------------+\n",
      "|             1|      1001|2023-07-01 00:00:00|          Credit|1200.5|     USD|        Salary|     New York|\n",
      "|             2|      1001|2023-07-03 00:00:00|           Debit|150.75|     USD|     Groceries|     New York|\n",
      "|             3|      1002|2023-07-02 00:00:00|          Credit|2500.0|     EUR|        Salary|       Berlin|\n",
      "|             4|      1003|2023-07-04 00:00:00|           Debit|1000.0|     USD|          Rent|  Los Angeles|\n",
      "|             5|      1002|2023-07-05 00:00:00|          Credit| 200.0|     EUR|    Investment|       Berlin|\n",
      "|             6|      1001|2023-07-06 00:00:00|           Debit| 500.0|     USD|     Utilities|     New York|\n",
      "|             7|      1004|2023-07-07 00:00:00|          Credit|1500.0|     USD|        Salary|      Chicago|\n",
      "|             8|      1003|2023-07-08 00:00:00|           Debit| 100.0|     USD| Entertainment|  Los Angeles|\n",
      "|             9|      1004|2023-07-09 00:00:00|           Debit| 300.0|     USD|     Groceries|      Chicago|\n",
      "|            10|      1002|2023-07-10 00:00:00|          Credit|2200.0|     EUR|        Salary|       Berlin|\n",
      "|            11|      1005|2023-07-11 00:00:00|           Debit| 250.0|     USD|Transportation|San Francisco|\n",
      "|            12|      1001|2023-07-12 00:00:00|          Credit| 800.0|     USD|     Freelance|     New York|\n",
      "|            13|      1004|2023-07-13 00:00:00|           Debit| 450.0|     USD| Entertainment|      Chicago|\n",
      "|            14|      1002|2023-07-14 00:00:00|           Debit| 500.0|     EUR|     Groceries|       Berlin|\n",
      "|            15|      1005|2023-07-15 00:00:00|          Credit|3000.0|     USD|        Salary|San Francisco|\n",
      "|            16|      1003|2023-07-16 00:00:00|           Debit|1200.0|     USD|          Rent|  Los Angeles|\n",
      "|            17|      1001|2023-07-17 00:00:00|          Credit| 100.0|     USD|    Investment|     New York|\n",
      "|            18|      1004|2023-07-18 00:00:00|           Debit| 700.0|     USD|     Utilities|      Chicago|\n",
      "|            19|      1002|2023-07-19 00:00:00|          Credit|2300.0|     EUR|        Salary|       Berlin|\n",
      "|            20|      1005|2023-07-20 00:00:00|           Debit|  60.0|     USD|        Coffee|San Francisco|\n",
      "+--------------+----------+-------------------+----------------+------+--------+--------------+-------------+\n",
      "only showing top 20 rows\n",
      "\n"
     ]
    }
   ],
   "source": [
    "from pyspark.sql import SparkSession\n",
    "\n",
    "# Initialize SparkSession\n",
    "spark = SparkSession.builder.appName(\"FinancePySparkProject\").getOrCreate()\n",
    "\n",
    "# Load CSV data\n",
    "df = spark.read.csv(\"financial_data.csv\", header=True, inferSchema=True)\n",
    "df.show()\n"
   ]
  },
  {
   "cell_type": "markdown",
   "id": "73e70fb5-51e2-48a7-b7c5-6fbb83baf333",
   "metadata": {},
   "source": [
    "2. Data Cleaning\n",
    "\n",
    "Handle Missing Values: Replace or remove rows with missing values."
   ]
  },
  {
   "cell_type": "code",
   "execution_count": 4,
   "id": "2ed8083b-270a-494d-b2a7-7305ee99a770",
   "metadata": {},
   "outputs": [
    {
     "name": "stdout",
     "output_type": "stream",
     "text": [
      "+--------------+----------+----------------+----------------+------+--------+--------+--------+\n",
      "|transaction_id|account_id|transaction_date|transaction_type|amount|currency|category|location|\n",
      "+--------------+----------+----------------+----------------+------+--------+--------+--------+\n",
      "|             0|         0|               0|               0|     0|       0|       0|       0|\n",
      "+--------------+----------+----------------+----------------+------+--------+--------+--------+\n",
      "\n",
      "+--------------+----------+-------------------+----------------+------+--------+--------------+-------------+\n",
      "|transaction_id|account_id|   transaction_date|transaction_type|amount|currency|      category|     location|\n",
      "+--------------+----------+-------------------+----------------+------+--------+--------------+-------------+\n",
      "|             1|      1001|2023-07-01 00:00:00|          Credit|1200.5|     USD|        Salary|     New York|\n",
      "|             2|      1001|2023-07-03 00:00:00|           Debit|150.75|     USD|     Groceries|     New York|\n",
      "|             3|      1002|2023-07-02 00:00:00|          Credit|2500.0|     EUR|        Salary|       Berlin|\n",
      "|             4|      1003|2023-07-04 00:00:00|           Debit|1000.0|     USD|          Rent|  Los Angeles|\n",
      "|             5|      1002|2023-07-05 00:00:00|          Credit| 200.0|     EUR|    Investment|       Berlin|\n",
      "|             6|      1001|2023-07-06 00:00:00|           Debit| 500.0|     USD|     Utilities|     New York|\n",
      "|             7|      1004|2023-07-07 00:00:00|          Credit|1500.0|     USD|        Salary|      Chicago|\n",
      "|             8|      1003|2023-07-08 00:00:00|           Debit| 100.0|     USD| Entertainment|  Los Angeles|\n",
      "|             9|      1004|2023-07-09 00:00:00|           Debit| 300.0|     USD|     Groceries|      Chicago|\n",
      "|            10|      1002|2023-07-10 00:00:00|          Credit|2200.0|     EUR|        Salary|       Berlin|\n",
      "|            11|      1005|2023-07-11 00:00:00|           Debit| 250.0|     USD|Transportation|San Francisco|\n",
      "|            12|      1001|2023-07-12 00:00:00|          Credit| 800.0|     USD|     Freelance|     New York|\n",
      "|            13|      1004|2023-07-13 00:00:00|           Debit| 450.0|     USD| Entertainment|      Chicago|\n",
      "|            14|      1002|2023-07-14 00:00:00|           Debit| 500.0|     EUR|     Groceries|       Berlin|\n",
      "|            15|      1005|2023-07-15 00:00:00|          Credit|3000.0|     USD|        Salary|San Francisco|\n",
      "|            16|      1003|2023-07-16 00:00:00|           Debit|1200.0|     USD|          Rent|  Los Angeles|\n",
      "|            17|      1001|2023-07-17 00:00:00|          Credit| 100.0|     USD|    Investment|     New York|\n",
      "|            18|      1004|2023-07-18 00:00:00|           Debit| 700.0|     USD|     Utilities|      Chicago|\n",
      "|            19|      1002|2023-07-19 00:00:00|          Credit|2300.0|     EUR|        Salary|       Berlin|\n",
      "|            20|      1005|2023-07-20 00:00:00|           Debit|  60.0|     USD|        Coffee|San Francisco|\n",
      "+--------------+----------+-------------------+----------------+------+--------+--------------+-------------+\n",
      "only showing top 20 rows\n",
      "\n"
     ]
    }
   ],
   "source": [
    "from pyspark.sql.functions import col, sum, when\n",
    "\n",
    "# Check for missing values in each column\n",
    "df.select([sum(when(col(c).isNull(), 1).otherwise(0)).alias(c) for c in df.columns]).show()\n",
    "\n",
    "# Replace missing values in the 'amount' column with the median value\n",
    "median_amount = df.approxQuantile(\"amount\", [0.5], 0.0)[0]\n",
    "df = df.na.fill({'amount': median_amount})\n",
    "\n",
    "# Drop rows where 'transaction_type', 'currency', or 'category' is missing\n",
    "df = df.na.drop(subset=[\"transaction_type\", \"currency\", \"category\"])\n",
    "df.show()\n"
   ]
  },
  {
   "cell_type": "markdown",
   "id": "e0a62008-4063-4329-81b1-34ba615ca6ae",
   "metadata": {},
   "source": [
    "Remove Outliers: Identify and remove outliers in the amount column."
   ]
  },
  {
   "cell_type": "code",
   "execution_count": 5,
   "id": "0724c783-1bcf-4286-8b68-0eaea9e9a7c7",
   "metadata": {},
   "outputs": [
    {
     "name": "stdout",
     "output_type": "stream",
     "text": [
      "+--------------+----------+-------------------+----------------+------+--------+--------------+-------------+\n",
      "|transaction_id|account_id|   transaction_date|transaction_type|amount|currency|      category|     location|\n",
      "+--------------+----------+-------------------+----------------+------+--------+--------------+-------------+\n",
      "|             1|      1001|2023-07-01 00:00:00|          Credit|1200.5|     USD|        Salary|     New York|\n",
      "|             2|      1001|2023-07-03 00:00:00|           Debit|150.75|     USD|     Groceries|     New York|\n",
      "|             3|      1002|2023-07-02 00:00:00|          Credit|2500.0|     EUR|        Salary|       Berlin|\n",
      "|             4|      1003|2023-07-04 00:00:00|           Debit|1000.0|     USD|          Rent|  Los Angeles|\n",
      "|             5|      1002|2023-07-05 00:00:00|          Credit| 200.0|     EUR|    Investment|       Berlin|\n",
      "|             6|      1001|2023-07-06 00:00:00|           Debit| 500.0|     USD|     Utilities|     New York|\n",
      "|             7|      1004|2023-07-07 00:00:00|          Credit|1500.0|     USD|        Salary|      Chicago|\n",
      "|             8|      1003|2023-07-08 00:00:00|           Debit| 100.0|     USD| Entertainment|  Los Angeles|\n",
      "|             9|      1004|2023-07-09 00:00:00|           Debit| 300.0|     USD|     Groceries|      Chicago|\n",
      "|            10|      1002|2023-07-10 00:00:00|          Credit|2200.0|     EUR|        Salary|       Berlin|\n",
      "|            11|      1005|2023-07-11 00:00:00|           Debit| 250.0|     USD|Transportation|San Francisco|\n",
      "|            12|      1001|2023-07-12 00:00:00|          Credit| 800.0|     USD|     Freelance|     New York|\n",
      "|            13|      1004|2023-07-13 00:00:00|           Debit| 450.0|     USD| Entertainment|      Chicago|\n",
      "|            14|      1002|2023-07-14 00:00:00|           Debit| 500.0|     EUR|     Groceries|       Berlin|\n",
      "|            16|      1003|2023-07-16 00:00:00|           Debit|1200.0|     USD|          Rent|  Los Angeles|\n",
      "|            17|      1001|2023-07-17 00:00:00|          Credit| 100.0|     USD|    Investment|     New York|\n",
      "|            18|      1004|2023-07-18 00:00:00|           Debit| 700.0|     USD|     Utilities|      Chicago|\n",
      "|            19|      1002|2023-07-19 00:00:00|          Credit|2300.0|     EUR|        Salary|       Berlin|\n",
      "|            20|      1005|2023-07-20 00:00:00|           Debit|  60.0|     USD|        Coffee|San Francisco|\n",
      "|            21|      1001|2023-07-21 00:00:00|          Credit|2000.0|     USD|         Bonus|     New York|\n",
      "+--------------+----------+-------------------+----------------+------+--------+--------------+-------------+\n",
      "only showing top 20 rows\n",
      "\n"
     ]
    }
   ],
   "source": [
    "# Define a threshold for outliers, e.g., transactions above the 95th percentile\n",
    "upper_limit = df.approxQuantile(\"amount\", [0.95], 0.0)[0]\n",
    "df = df.filter(df[\"amount\"] <= upper_limit)\n",
    "df.show()\n"
   ]
  },
  {
   "cell_type": "markdown",
   "id": "3a6ae2a0-e050-49fb-882a-6d5d1053c9e8",
   "metadata": {},
   "source": [
    "3. Data Validation\n",
    "\n",
    "Ensure Correct Data Types: Validate and correct data types."
   ]
  },
  {
   "cell_type": "code",
   "execution_count": 6,
   "id": "46915931-546b-4841-a0eb-50d60d94299c",
   "metadata": {},
   "outputs": [
    {
     "name": "stdout",
     "output_type": "stream",
     "text": [
      "root\n",
      " |-- transaction_id: integer (nullable = true)\n",
      " |-- account_id: integer (nullable = true)\n",
      " |-- transaction_date: timestamp (nullable = true)\n",
      " |-- transaction_type: string (nullable = true)\n",
      " |-- amount: double (nullable = false)\n",
      " |-- currency: string (nullable = true)\n",
      " |-- category: string (nullable = true)\n",
      " |-- location: string (nullable = true)\n",
      "\n",
      "root\n",
      " |-- transaction_id: integer (nullable = true)\n",
      " |-- account_id: integer (nullable = true)\n",
      " |-- transaction_date: timestamp (nullable = true)\n",
      " |-- transaction_type: string (nullable = true)\n",
      " |-- amount: double (nullable = false)\n",
      " |-- currency: string (nullable = true)\n",
      " |-- category: string (nullable = true)\n",
      " |-- location: string (nullable = true)\n",
      "\n"
     ]
    }
   ],
   "source": [
    "df.printSchema()\n",
    "\n",
    "# Convert amount to double if it's not already\n",
    "df = df.withColumn(\"amount\", col(\"amount\").cast(\"double\"))\n",
    "df.printSchema()\n"
   ]
  },
  {
   "cell_type": "markdown",
   "id": "6310c139-2fb4-494d-b28b-30af707a715e",
   "metadata": {},
   "source": [
    "Validate Date Formats: Ensure transaction_date is in the correct format."
   ]
  },
  {
   "cell_type": "code",
   "execution_count": 7,
   "id": "558ce9d4-a3c9-479b-9ac7-6c12aea62724",
   "metadata": {},
   "outputs": [
    {
     "name": "stdout",
     "output_type": "stream",
     "text": [
      "+--------------+----------+----------------+----------------+------+--------+--------------+-------------+\n",
      "|transaction_id|account_id|transaction_date|transaction_type|amount|currency|      category|     location|\n",
      "+--------------+----------+----------------+----------------+------+--------+--------------+-------------+\n",
      "|             1|      1001|      2023-07-01|          Credit|1200.5|     USD|        Salary|     New York|\n",
      "|             2|      1001|      2023-07-03|           Debit|150.75|     USD|     Groceries|     New York|\n",
      "|             3|      1002|      2023-07-02|          Credit|2500.0|     EUR|        Salary|       Berlin|\n",
      "|             4|      1003|      2023-07-04|           Debit|1000.0|     USD|          Rent|  Los Angeles|\n",
      "|             5|      1002|      2023-07-05|          Credit| 200.0|     EUR|    Investment|       Berlin|\n",
      "|             6|      1001|      2023-07-06|           Debit| 500.0|     USD|     Utilities|     New York|\n",
      "|             7|      1004|      2023-07-07|          Credit|1500.0|     USD|        Salary|      Chicago|\n",
      "|             8|      1003|      2023-07-08|           Debit| 100.0|     USD| Entertainment|  Los Angeles|\n",
      "|             9|      1004|      2023-07-09|           Debit| 300.0|     USD|     Groceries|      Chicago|\n",
      "|            10|      1002|      2023-07-10|          Credit|2200.0|     EUR|        Salary|       Berlin|\n",
      "|            11|      1005|      2023-07-11|           Debit| 250.0|     USD|Transportation|San Francisco|\n",
      "|            12|      1001|      2023-07-12|          Credit| 800.0|     USD|     Freelance|     New York|\n",
      "|            13|      1004|      2023-07-13|           Debit| 450.0|     USD| Entertainment|      Chicago|\n",
      "|            14|      1002|      2023-07-14|           Debit| 500.0|     EUR|     Groceries|       Berlin|\n",
      "|            16|      1003|      2023-07-16|           Debit|1200.0|     USD|          Rent|  Los Angeles|\n",
      "|            17|      1001|      2023-07-17|          Credit| 100.0|     USD|    Investment|     New York|\n",
      "|            18|      1004|      2023-07-18|           Debit| 700.0|     USD|     Utilities|      Chicago|\n",
      "|            19|      1002|      2023-07-19|          Credit|2300.0|     EUR|        Salary|       Berlin|\n",
      "|            20|      1005|      2023-07-20|           Debit|  60.0|     USD|        Coffee|San Francisco|\n",
      "|            21|      1001|      2023-07-21|          Credit|2000.0|     USD|         Bonus|     New York|\n",
      "+--------------+----------+----------------+----------------+------+--------+--------------+-------------+\n",
      "only showing top 20 rows\n",
      "\n"
     ]
    }
   ],
   "source": [
    "from pyspark.sql.functions import to_date\n",
    "\n",
    "df = df.withColumn(\"transaction_date\", to_date(df[\"transaction_date\"], \"yyyy-MM-dd\"))\n",
    "df.show()\n"
   ]
  },
  {
   "cell_type": "markdown",
   "id": "84a1fa43-e030-4dc0-a1f9-98a29689552e",
   "metadata": {},
   "source": [
    "Check for Duplicate Records: Remove duplicates based on specific columns."
   ]
  },
  {
   "cell_type": "code",
   "execution_count": 8,
   "id": "74d686d8-e592-40b4-92c9-3b57c7674d77",
   "metadata": {},
   "outputs": [
    {
     "name": "stdout",
     "output_type": "stream",
     "text": [
      "+--------------+----------+----------------+----------------+------+--------+--------------+-------------+\n",
      "|transaction_id|account_id|transaction_date|transaction_type|amount|currency|      category|     location|\n",
      "+--------------+----------+----------------+----------------+------+--------+--------------+-------------+\n",
      "|             1|      1001|      2023-07-01|          Credit|1200.5|     USD|        Salary|     New York|\n",
      "|             2|      1001|      2023-07-03|           Debit|150.75|     USD|     Groceries|     New York|\n",
      "|             3|      1002|      2023-07-02|          Credit|2500.0|     EUR|        Salary|       Berlin|\n",
      "|             4|      1003|      2023-07-04|           Debit|1000.0|     USD|          Rent|  Los Angeles|\n",
      "|             5|      1002|      2023-07-05|          Credit| 200.0|     EUR|    Investment|       Berlin|\n",
      "|             6|      1001|      2023-07-06|           Debit| 500.0|     USD|     Utilities|     New York|\n",
      "|             7|      1004|      2023-07-07|          Credit|1500.0|     USD|        Salary|      Chicago|\n",
      "|             8|      1003|      2023-07-08|           Debit| 100.0|     USD| Entertainment|  Los Angeles|\n",
      "|             9|      1004|      2023-07-09|           Debit| 300.0|     USD|     Groceries|      Chicago|\n",
      "|            10|      1002|      2023-07-10|          Credit|2200.0|     EUR|        Salary|       Berlin|\n",
      "|            11|      1005|      2023-07-11|           Debit| 250.0|     USD|Transportation|San Francisco|\n",
      "|            12|      1001|      2023-07-12|          Credit| 800.0|     USD|     Freelance|     New York|\n",
      "|            13|      1004|      2023-07-13|           Debit| 450.0|     USD| Entertainment|      Chicago|\n",
      "|            14|      1002|      2023-07-14|           Debit| 500.0|     EUR|     Groceries|       Berlin|\n",
      "|            16|      1003|      2023-07-16|           Debit|1200.0|     USD|          Rent|  Los Angeles|\n",
      "|            17|      1001|      2023-07-17|          Credit| 100.0|     USD|    Investment|     New York|\n",
      "|            18|      1004|      2023-07-18|           Debit| 700.0|     USD|     Utilities|      Chicago|\n",
      "|            19|      1002|      2023-07-19|          Credit|2300.0|     EUR|        Salary|       Berlin|\n",
      "|            20|      1005|      2023-07-20|           Debit|  60.0|     USD|        Coffee|San Francisco|\n",
      "|            21|      1001|      2023-07-21|          Credit|2000.0|     USD|         Bonus|     New York|\n",
      "+--------------+----------+----------------+----------------+------+--------+--------------+-------------+\n",
      "only showing top 20 rows\n",
      "\n"
     ]
    }
   ],
   "source": [
    "df = df.dropDuplicates(subset=[\"transaction_id\", \"account_id\"])\n",
    "df.show()\n"
   ]
  },
  {
   "cell_type": "markdown",
   "id": "e8f35fb5-99fa-486a-bade-3d8d8cb456ad",
   "metadata": {},
   "source": [
    "4. Data Transformation\n",
    "\n",
    "   \n",
    "Categorize Transactions: Group transactions into broader categories."
   ]
  },
  {
   "cell_type": "code",
   "execution_count": 12,
   "id": "f18019be-1da3-47d0-9a1a-304a2478a257",
   "metadata": {},
   "outputs": [
    {
     "name": "stdout",
     "output_type": "stream",
     "text": [
      "+--------------+----------+----------------+----------------+------+--------+--------------+-------------+---------------+\n",
      "|transaction_id|account_id|transaction_date|transaction_type|amount|currency|      category|     location| broad_category|\n",
      "+--------------+----------+----------------+----------------+------+--------+--------------+-------------+---------------+\n",
      "|             1|      1001|      2023-07-01|          Credit|1200.5|     USD|        Salary|     New York|         Income|\n",
      "|             2|      1001|      2023-07-03|           Debit|150.75|     USD|     Groceries|     New York|Living Expenses|\n",
      "|             3|      1002|      2023-07-02|          Credit|2500.0|     EUR|        Salary|       Berlin|         Income|\n",
      "|             4|      1003|      2023-07-04|           Debit|1000.0|     USD|          Rent|  Los Angeles|Living Expenses|\n",
      "|             5|      1002|      2023-07-05|          Credit| 200.0|     EUR|    Investment|       Berlin|          Other|\n",
      "|             6|      1001|      2023-07-06|           Debit| 500.0|     USD|     Utilities|     New York|          Other|\n",
      "|             7|      1004|      2023-07-07|          Credit|1500.0|     USD|        Salary|      Chicago|         Income|\n",
      "|             8|      1003|      2023-07-08|           Debit| 100.0|     USD| Entertainment|  Los Angeles|          Other|\n",
      "|             9|      1004|      2023-07-09|           Debit| 300.0|     USD|     Groceries|      Chicago|Living Expenses|\n",
      "|            10|      1002|      2023-07-10|          Credit|2200.0|     EUR|        Salary|       Berlin|         Income|\n",
      "|            11|      1005|      2023-07-11|           Debit| 250.0|     USD|Transportation|San Francisco|          Other|\n",
      "|            12|      1001|      2023-07-12|          Credit| 800.0|     USD|     Freelance|     New York|          Other|\n",
      "|            13|      1004|      2023-07-13|           Debit| 450.0|     USD| Entertainment|      Chicago|          Other|\n",
      "|            14|      1002|      2023-07-14|           Debit| 500.0|     EUR|     Groceries|       Berlin|Living Expenses|\n",
      "|            16|      1003|      2023-07-16|           Debit|1200.0|     USD|          Rent|  Los Angeles|Living Expenses|\n",
      "|            17|      1001|      2023-07-17|          Credit| 100.0|     USD|    Investment|     New York|          Other|\n",
      "|            18|      1004|      2023-07-18|           Debit| 700.0|     USD|     Utilities|      Chicago|          Other|\n",
      "|            19|      1002|      2023-07-19|          Credit|2300.0|     EUR|        Salary|       Berlin|         Income|\n",
      "|            20|      1005|      2023-07-20|           Debit|  60.0|     USD|        Coffee|San Francisco|          Other|\n",
      "|            21|      1001|      2023-07-21|          Credit|2000.0|     USD|         Bonus|     New York|          Other|\n",
      "+--------------+----------+----------------+----------------+------+--------+--------------+-------------+---------------+\n",
      "only showing top 20 rows\n",
      "\n"
     ]
    }
   ],
   "source": [
    "from pyspark.sql.functions import when\n",
    "\n",
    "df = df.withColumn(\"broad_category\",\n",
    "                   when(df[\"category\"].isin(\"Groceries\", \"Rent\"), \"Living Expenses\")\n",
    "                   .when(df[\"category\"] == \"Salary\", \"Income\")\n",
    "                   .otherwise(\"Other\"))\n",
    "df.show()\n"
   ]
  },
  {
   "cell_type": "markdown",
   "id": "cb0324a0-5d9c-4b18-adb1-d348db09b5c9",
   "metadata": {},
   "source": [
    "Add Time-Based Features: Extract month and day of the week from transaction_date."
   ]
  },
  {
   "cell_type": "code",
   "execution_count": 15,
   "id": "c09ad4c9-2b57-4909-9a9b-6c966994dacf",
   "metadata": {},
   "outputs": [
    {
     "name": "stdout",
     "output_type": "stream",
     "text": [
      "+--------------+----------+----------------+----------------+------+--------+--------------+-------------+---------------+-----------------+---------------+\n",
      "|transaction_id|account_id|transaction_date|transaction_type|amount|currency|      category|     location| broad_category|transaction_month|transaction_day|\n",
      "+--------------+----------+----------------+----------------+------+--------+--------------+-------------+---------------+-----------------+---------------+\n",
      "|             1|      1001|      2023-07-01|          Credit|1200.5|     USD|        Salary|     New York|         Income|                7|              7|\n",
      "|             2|      1001|      2023-07-03|           Debit|150.75|     USD|     Groceries|     New York|Living Expenses|                7|              2|\n",
      "|             3|      1002|      2023-07-02|          Credit|2500.0|     EUR|        Salary|       Berlin|         Income|                7|              1|\n",
      "|             4|      1003|      2023-07-04|           Debit|1000.0|     USD|          Rent|  Los Angeles|Living Expenses|                7|              3|\n",
      "|             5|      1002|      2023-07-05|          Credit| 200.0|     EUR|    Investment|       Berlin|          Other|                7|              4|\n",
      "|             6|      1001|      2023-07-06|           Debit| 500.0|     USD|     Utilities|     New York|          Other|                7|              5|\n",
      "|             7|      1004|      2023-07-07|          Credit|1500.0|     USD|        Salary|      Chicago|         Income|                7|              6|\n",
      "|             8|      1003|      2023-07-08|           Debit| 100.0|     USD| Entertainment|  Los Angeles|          Other|                7|              7|\n",
      "|             9|      1004|      2023-07-09|           Debit| 300.0|     USD|     Groceries|      Chicago|Living Expenses|                7|              1|\n",
      "|            10|      1002|      2023-07-10|          Credit|2200.0|     EUR|        Salary|       Berlin|         Income|                7|              2|\n",
      "|            11|      1005|      2023-07-11|           Debit| 250.0|     USD|Transportation|San Francisco|          Other|                7|              3|\n",
      "|            12|      1001|      2023-07-12|          Credit| 800.0|     USD|     Freelance|     New York|          Other|                7|              4|\n",
      "|            13|      1004|      2023-07-13|           Debit| 450.0|     USD| Entertainment|      Chicago|          Other|                7|              5|\n",
      "|            14|      1002|      2023-07-14|           Debit| 500.0|     EUR|     Groceries|       Berlin|Living Expenses|                7|              6|\n",
      "|            16|      1003|      2023-07-16|           Debit|1200.0|     USD|          Rent|  Los Angeles|Living Expenses|                7|              1|\n",
      "|            17|      1001|      2023-07-17|          Credit| 100.0|     USD|    Investment|     New York|          Other|                7|              2|\n",
      "|            18|      1004|      2023-07-18|           Debit| 700.0|     USD|     Utilities|      Chicago|          Other|                7|              3|\n",
      "|            19|      1002|      2023-07-19|          Credit|2300.0|     EUR|        Salary|       Berlin|         Income|                7|              4|\n",
      "|            20|      1005|      2023-07-20|           Debit|  60.0|     USD|        Coffee|San Francisco|          Other|                7|              5|\n",
      "|            21|      1001|      2023-07-21|          Credit|2000.0|     USD|         Bonus|     New York|          Other|                7|              6|\n",
      "+--------------+----------+----------------+----------------+------+--------+--------------+-------------+---------------+-----------------+---------------+\n",
      "only showing top 20 rows\n",
      "\n"
     ]
    }
   ],
   "source": [
    "from pyspark.sql.functions import month, dayofweek\n",
    "\n",
    "df = df.withColumn(\"transaction_month\", month(df[\"transaction_date\"]))\n",
    "df = df.withColumn(\"transaction_day\", dayofweek(df[\"transaction_date\"]))\n",
    "df.show()\n"
   ]
  },
  {
   "cell_type": "markdown",
   "id": "4056dc6d-3f9d-40b2-bf84-c665d754c5a4",
   "metadata": {},
   "source": [
    "Aggregate Data: Calculate total expenditure by category and location."
   ]
  },
  {
   "cell_type": "code",
   "execution_count": 22,
   "id": "c6938615-b32a-40f8-9039-9d3ae079dce5",
   "metadata": {},
   "outputs": [
    {
     "name": "stdout",
     "output_type": "stream",
     "text": [
      "+--------------+-------------+------------+------------------+----------+----------+\n",
      "|      category|     location|total_amount|    average_amount|max_amount|min_amount|\n",
      "+--------------+-------------+------------+------------------+----------+----------+\n",
      "|     Groceries|     New York|      350.75|           175.375|     200.0|    150.75|\n",
      "|    Investment|       Berlin|       200.0|             200.0|     200.0|     200.0|\n",
      "|     Utilities|San Francisco|       800.0|             800.0|     800.0|     800.0|\n",
      "|     Freelance|     New York|      1700.0|             850.0|     900.0|     800.0|\n",
      "|        Coffee|       Berlin|       130.0|              65.0|      70.0|      60.0|\n",
      "|    Investment|  Los Angeles|       100.0|             100.0|     100.0|     100.0|\n",
      "|     Groceries|       Berlin|       650.0|             325.0|     500.0|     150.0|\n",
      "|     Utilities|      Chicago|       700.0|             700.0|     700.0|     700.0|\n",
      "|        Coffee|San Francisco|        90.0|              45.0|      60.0|      30.0|\n",
      "|     Groceries|      Chicago|      1175.0|            293.75|     500.0|      75.0|\n",
      "|        Coffee|      Chicago|        50.0|              50.0|      50.0|      50.0|\n",
      "|          Rent|  Los Angeles|      3100.0|1033.3333333333333|    1200.0|     900.0|\n",
      "| Entertainment|       Berlin|       100.0|             100.0|     100.0|     100.0|\n",
      "|         Bonus|     New York|      2000.0|            2000.0|    2000.0|    2000.0|\n",
      "|        Salary|       Berlin|     11500.0|            2300.0|    2500.0|    2100.0|\n",
      "|        Salary|     New York|      1200.5|            1200.5|    1200.5|    1200.5|\n",
      "|Transportation|San Francisco|       490.0|163.33333333333334|     250.0|     120.0|\n",
      "|        Salary|      Chicago|      3300.0|            1650.0|    1800.0|    1500.0|\n",
      "|     Utilities|     New York|      1100.0|             550.0|     600.0|     500.0|\n",
      "| Entertainment|      Chicago|       800.0|             400.0|     450.0|     350.0|\n",
      "+--------------+-------------+------------+------------------+----------+----------+\n",
      "only showing top 20 rows\n",
      "\n"
     ]
    }
   ],
   "source": [
    "from pyspark.sql import SparkSession\n",
    "from pyspark.sql.functions import col, sum, avg, max, min, trunc\n",
    "from pyspark.sql.window import Window\n",
    "\n",
    "# Total amount by category and location\n",
    "total_by_category_location = df.groupBy(\"category\", \"location\").agg(\n",
    "    sum(\"amount\").alias(\"total_amount\"),\n",
    "    avg(\"amount\").alias(\"average_amount\"),\n",
    "    max(\"amount\").alias(\"max_amount\"),\n",
    "    min(\"amount\").alias(\"min_amount\")\n",
    ")\n",
    "\n",
    "total_by_category_location.show()\n"
   ]
  },
  {
   "cell_type": "markdown",
   "id": "1918c382-ae6f-43b5-b93f-76b5294470f6",
   "metadata": {},
   "source": [
    "Add Time-Based Features: Extract month and day of the week from transaction_date."
   ]
  },
  {
   "cell_type": "code",
   "execution_count": 23,
   "id": "693759ea-6fc8-4247-8fa4-6184f25a26a7",
   "metadata": {},
   "outputs": [
    {
     "name": "stdout",
     "output_type": "stream",
     "text": [
      "+----------+-------------+------------+\n",
      "|     month|     location|total_amount|\n",
      "+----------+-------------+------------+\n",
      "|2023-08-01|San Francisco|       950.0|\n",
      "|2023-08-01|     New York|      1700.0|\n",
      "|2023-07-01|       Berlin|      9900.0|\n",
      "|2023-08-01|      Chicago|      2600.0|\n",
      "|2023-07-01|      Chicago|      3825.0|\n",
      "|2023-07-01|  Los Angeles|      2950.0|\n",
      "|2023-08-01|       Berlin|      2680.0|\n",
      "|2023-07-01|San Francisco|       430.0|\n",
      "|2023-07-01|     New York|     4981.25|\n",
      "|2023-08-01|  Los Angeles|      2800.0|\n",
      "+----------+-------------+------------+\n",
      "\n"
     ]
    }
   ],
   "source": [
    "# Add a 'month' column for monthly aggregation\n",
    "df_with_month = df.withColumn(\"month\", trunc(\"transaction_date\", \"MM\"))\n",
    "\n",
    "# Total amount by month and location\n",
    "total_by_month_location = df_with_month.groupBy(\"month\", \"location\").agg(\n",
    "    sum(\"amount\").alias(\"total_amount\")\n",
    ")\n",
    "\n",
    "total_by_month_location.show()\n"
   ]
  },
  {
   "cell_type": "markdown",
   "id": "fc7dfc39-3550-4b73-97e7-1e98143902ad",
   "metadata": {},
   "source": [
    "Window Functions\n",
    "\n",
    "\n",
    "Running Total by Location"
   ]
  },
  {
   "cell_type": "code",
   "execution_count": 24,
   "id": "786ef965-d1d3-4e32-9e4d-2ae0c765e31e",
   "metadata": {},
   "outputs": [
    {
     "name": "stdout",
     "output_type": "stream",
     "text": [
      "+--------------+----------+----------------+----------------+------+--------+-------------+--------+---------------+-----------------+---------------+-------------+\n",
      "|transaction_id|account_id|transaction_date|transaction_type|amount|currency|     category|location| broad_category|transaction_month|transaction_day|running_total|\n",
      "+--------------+----------+----------------+----------------+------+--------+-------------+--------+---------------+-----------------+---------------+-------------+\n",
      "|             3|      1002|      2023-07-02|          Credit|2500.0|     EUR|       Salary|  Berlin|         Income|                7|              1|       2500.0|\n",
      "|             5|      1002|      2023-07-05|          Credit| 200.0|     EUR|   Investment|  Berlin|          Other|                7|              4|       2700.0|\n",
      "|            10|      1002|      2023-07-10|          Credit|2200.0|     EUR|       Salary|  Berlin|         Income|                7|              2|       4900.0|\n",
      "|            14|      1002|      2023-07-14|           Debit| 500.0|     EUR|    Groceries|  Berlin|Living Expenses|                7|              6|       5400.0|\n",
      "|            19|      1002|      2023-07-19|          Credit|2300.0|     EUR|       Salary|  Berlin|         Income|                7|              4|       7700.0|\n",
      "|            25|      1002|      2023-07-25|          Credit|2100.0|     EUR|       Salary|  Berlin|         Income|                7|              3|       9800.0|\n",
      "|            29|      1002|      2023-07-29|           Debit| 100.0|     EUR|Entertainment|  Berlin|          Other|                7|              7|       9900.0|\n",
      "|            35|      1002|      2023-08-04|          Credit|2400.0|     EUR|       Salary|  Berlin|         Income|                8|              6|      12300.0|\n",
      "|            39|      1002|      2023-08-08|           Debit|  70.0|     EUR|       Coffee|  Berlin|          Other|                8|              3|      12370.0|\n",
      "|            44|      1002|      2023-08-13|           Debit| 150.0|     EUR|    Groceries|  Berlin|Living Expenses|                8|              1|      12520.0|\n",
      "|            49|      1002|      2023-08-18|           Debit|  60.0|     EUR|       Coffee|  Berlin|          Other|                8|              6|      12580.0|\n",
      "|             7|      1004|      2023-07-07|          Credit|1500.0|     USD|       Salary| Chicago|         Income|                7|              6|       1500.0|\n",
      "|             9|      1004|      2023-07-09|           Debit| 300.0|     USD|    Groceries| Chicago|Living Expenses|                7|              1|       1800.0|\n",
      "|            13|      1004|      2023-07-13|           Debit| 450.0|     USD|Entertainment| Chicago|          Other|                7|              5|       2250.0|\n",
      "|            18|      1004|      2023-07-18|           Debit| 700.0|     USD|    Utilities| Chicago|          Other|                7|              3|       2950.0|\n",
      "|            22|      1004|      2023-07-22|           Debit| 500.0|     USD|    Groceries| Chicago|Living Expenses|                7|              7|       3450.0|\n",
      "|            27|      1004|      2023-07-27|           Debit| 300.0|     USD|    Groceries| Chicago|Living Expenses|                7|              5|       3750.0|\n",
      "|            30|      1005|      2023-07-30|           Debit|  75.0|     USD|    Groceries| Chicago|Living Expenses|                7|              1|       3825.0|\n",
      "|            32|      1004|      2023-08-01|          Credit|1800.0|     USD|       Salary| Chicago|         Income|                8|              3|       5625.0|\n",
      "|            37|      1004|      2023-08-06|           Debit| 350.0|     USD|Entertainment| Chicago|          Other|                8|              1|       5975.0|\n",
      "+--------------+----------+----------------+----------------+------+--------+-------------+--------+---------------+-----------------+---------------+-------------+\n",
      "only showing top 20 rows\n",
      "\n"
     ]
    }
   ],
   "source": [
    "# Define window specification for running total\n",
    "window_spec = Window.partitionBy(\"location\").orderBy(\"transaction_date\").rowsBetween(Window.unboundedPreceding, Window.currentRow)\n",
    "\n",
    "# Calculate running total\n",
    "df_with_running_total = df.withColumn(\"running_total\", sum(\"amount\").over(window_spec))\n",
    "\n",
    "df_with_running_total.show()\n"
   ]
  },
  {
   "cell_type": "markdown",
   "id": "76cbc81d-18fc-42f4-bc5e-97e8ae94b5e0",
   "metadata": {},
   "source": [
    "7-Day Moving Average by Location"
   ]
  },
  {
   "cell_type": "code",
   "execution_count": 25,
   "id": "8561d69c-47c5-4135-b2cf-07f7f7b047a1",
   "metadata": {},
   "outputs": [
    {
     "name": "stdout",
     "output_type": "stream",
     "text": [
      "+--------------+----------+----------------+----------------+------+--------+-------------+--------+---------------+-----------------+---------------+------------------+\n",
      "|transaction_id|account_id|transaction_date|transaction_type|amount|currency|     category|location| broad_category|transaction_month|transaction_day|        moving_avg|\n",
      "+--------------+----------+----------------+----------------+------+--------+-------------+--------+---------------+-----------------+---------------+------------------+\n",
      "|             3|      1002|      2023-07-02|          Credit|2500.0|     EUR|       Salary|  Berlin|         Income|                7|              1|            2500.0|\n",
      "|             5|      1002|      2023-07-05|          Credit| 200.0|     EUR|   Investment|  Berlin|          Other|                7|              4|            1350.0|\n",
      "|            10|      1002|      2023-07-10|          Credit|2200.0|     EUR|       Salary|  Berlin|         Income|                7|              2|1633.3333333333333|\n",
      "|            14|      1002|      2023-07-14|           Debit| 500.0|     EUR|    Groceries|  Berlin|Living Expenses|                7|              6|            1350.0|\n",
      "|            19|      1002|      2023-07-19|          Credit|2300.0|     EUR|       Salary|  Berlin|         Income|                7|              4|            1540.0|\n",
      "|            25|      1002|      2023-07-25|          Credit|2100.0|     EUR|       Salary|  Berlin|         Income|                7|              3|1633.3333333333333|\n",
      "|            29|      1002|      2023-07-29|           Debit| 100.0|     EUR|Entertainment|  Berlin|          Other|                7|              7|1414.2857142857142|\n",
      "|            35|      1002|      2023-08-04|          Credit|2400.0|     EUR|       Salary|  Berlin|         Income|                8|              6|            1400.0|\n",
      "|            39|      1002|      2023-08-08|           Debit|  70.0|     EUR|       Coffee|  Berlin|          Other|                8|              3|1381.4285714285713|\n",
      "|            44|      1002|      2023-08-13|           Debit| 150.0|     EUR|    Groceries|  Berlin|Living Expenses|                8|              1|1088.5714285714287|\n",
      "|            49|      1002|      2023-08-18|           Debit|  60.0|     EUR|       Coffee|  Berlin|          Other|                8|              6|1025.7142857142858|\n",
      "|             7|      1004|      2023-07-07|          Credit|1500.0|     USD|       Salary| Chicago|         Income|                7|              6|            1500.0|\n",
      "|             9|      1004|      2023-07-09|           Debit| 300.0|     USD|    Groceries| Chicago|Living Expenses|                7|              1|             900.0|\n",
      "|            13|      1004|      2023-07-13|           Debit| 450.0|     USD|Entertainment| Chicago|          Other|                7|              5|             750.0|\n",
      "|            18|      1004|      2023-07-18|           Debit| 700.0|     USD|    Utilities| Chicago|          Other|                7|              3|             737.5|\n",
      "|            22|      1004|      2023-07-22|           Debit| 500.0|     USD|    Groceries| Chicago|Living Expenses|                7|              7|             690.0|\n",
      "|            27|      1004|      2023-07-27|           Debit| 300.0|     USD|    Groceries| Chicago|Living Expenses|                7|              5|             625.0|\n",
      "|            30|      1005|      2023-07-30|           Debit|  75.0|     USD|    Groceries| Chicago|Living Expenses|                7|              1| 546.4285714285714|\n",
      "|            32|      1004|      2023-08-01|          Credit|1800.0|     USD|       Salary| Chicago|         Income|                8|              3| 589.2857142857143|\n",
      "|            37|      1004|      2023-08-06|           Debit| 350.0|     USD|Entertainment| Chicago|          Other|                8|              1| 596.4285714285714|\n",
      "+--------------+----------+----------------+----------------+------+--------+-------------+--------+---------------+-----------------+---------------+------------------+\n",
      "only showing top 20 rows\n",
      "\n"
     ]
    }
   ],
   "source": [
    "# Define window specification for 7-day moving average\n",
    "moving_avg_window = Window.partitionBy(\"location\").orderBy(\"transaction_date\").rowsBetween(-6, 0)\n",
    "\n",
    "# Calculate moving average\n",
    "df_with_moving_avg = df.withColumn(\"moving_avg\", avg(\"amount\").over(moving_avg_window))\n",
    "\n",
    "df_with_moving_avg.show()\n"
   ]
  },
  {
   "cell_type": "code",
   "execution_count": null,
   "id": "4ebcd86d-147e-4d02-b209-9bcb0269c929",
   "metadata": {},
   "outputs": [],
   "source": []
  },
  {
   "cell_type": "code",
   "execution_count": null,
   "id": "530cb935-716a-4332-a1c8-11bf3e1e1475",
   "metadata": {},
   "outputs": [],
   "source": []
  },
  {
   "cell_type": "code",
   "execution_count": null,
   "id": "54b3e0f1-d34e-4d1c-aa05-13dcd9b67841",
   "metadata": {},
   "outputs": [],
   "source": []
  },
  {
   "cell_type": "code",
   "execution_count": null,
   "id": "4a27a779-f230-40b7-ada5-22e8c5aca340",
   "metadata": {},
   "outputs": [],
   "source": []
  },
  {
   "cell_type": "code",
   "execution_count": null,
   "id": "92dd9f2e-150f-406f-8ca0-d5e2ad7d383a",
   "metadata": {},
   "outputs": [],
   "source": []
  },
  {
   "cell_type": "code",
   "execution_count": null,
   "id": "41e35f54-6114-4321-9e29-3e7938e8fcc8",
   "metadata": {},
   "outputs": [],
   "source": []
  },
  {
   "cell_type": "code",
   "execution_count": null,
   "id": "913adddf-ba99-44de-ac6f-69b21d592636",
   "metadata": {},
   "outputs": [],
   "source": []
  },
  {
   "cell_type": "code",
   "execution_count": null,
   "id": "f168c2da-82d2-4d34-af7f-69e1a79c0771",
   "metadata": {},
   "outputs": [],
   "source": []
  }
 ],
 "metadata": {
  "kernelspec": {
   "display_name": "Python 3 (ipykernel)",
   "language": "python",
   "name": "python3"
  },
  "language_info": {
   "codemirror_mode": {
    "name": "ipython",
    "version": 3
   },
   "file_extension": ".py",
   "mimetype": "text/x-python",
   "name": "python",
   "nbconvert_exporter": "python",
   "pygments_lexer": "ipython3",
   "version": "3.11.7"
  }
 },
 "nbformat": 4,
 "nbformat_minor": 5
}
